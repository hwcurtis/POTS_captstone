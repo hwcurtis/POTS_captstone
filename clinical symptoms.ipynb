{
 "cells": [
  {
   "cell_type": "code",
   "execution_count": null,
   "id": "e0b892cc",
   "metadata": {},
   "outputs": [],
   "source": [
    "import pandas as pd\n",
    "import numpy as np\n",
    "\n",
    "import matplotlib.pyplot as plt\n",
    "import seaborn as sns\n",
    "\n",
    "# Data for symptoms and their frequencies\n",
    "data = {\n",
    "\t\"Symptom\": [\n",
    "\t\t\"Light-headedness or dizziness\", \"Pre-syncope\", \"Weakness\", \"Palpitations\", \"Tremulousness\",\n",
    "\t\t\"Shortness of breath\", \"Chest pain\", \"Loss of sweating\", \"Hyperhidrosis\",\n",
    "\t\t\"Bloating\", \"Nausea\", \"Vomiting\", \"Abdominal pain\", \"Constipation\", \"Diarrhoea\",\n",
    "\t\t\"Bladder dysfunction\", \"Pupillary dysfunction\", \"Fatigue\", \"Sleep disturbance\",\n",
    "\t\t\"Migraine headache\", \"Myofascial pain\", \"Neuropathic pain\"\n",
    "\t],\n",
    "\t\"Frequency (%)\": [\n",
    "\t\t77.6, 60.5, 50, 75, 37.5, 27.6, 24.3, 5.3, 9.2,\n",
    "\t\t23.7, 38.8, 8.6, 15.1, 15.1, 17.8, 9.2, 3.3, 48, 31.6, 27.6, 15.8, 2\n",
    "\t],\n",
    "\t\"Type\": [\n",
    "\t\t\"Orthostatic\", \"Orthostatic\", \"Orthostatic\", \"Orthostatic\", \"Orthostatic\",\n",
    "\t\t\"Orthostatic\", \"Orthostatic\", \"Orthostatic\", \"Orthostatic\",\n",
    "\t\t\"Non-orthostatic\", \"Non-orthostatic\", \"Non-orthostatic\", \"Non-orthostatic\", \"Non-orthostatic\", \"Non-orthostatic\",\n",
    "\t\t\"Non-orthostatic\", \"Non-orthostatic\", \"Generalized\", \"Generalized\", \"Generalized\", \"Generalized\", \"Generalized\"\n",
    "\t]\n",
    "}\n",
    "\n",
    "df = pd.DataFrame(data)\n",
    "df.head()\n",
    "columns = df.shape[0]\n",
    "print(f\"Total number of symptoms: {rows}\")\n",
    "grouped = df.groupby(\"Type\").agg({\"Frequency (%)\": \"sum\"}).reset_index()\n",
    "\n",
    "grouped = grouped.sort_values(by=\"Frequency (%)\", ascending=False)\n",
    "plt.figure(figsize=(10, 6))\n",
    "sns.barplot(x=\"Frequency (%)\", y=\"Type\", data=grouped, palette=\"viridis\")\n",
    "plt.title(\"Total Frequency of Symptoms by Type\")\n",
    "plt.xlabel(\"Total Frequency (%)\")\n",
    "plt.ylabel(\"Symptom Type\")\n",
    "plt.tight_layout()\n",
    "plt.savefig(\"symptom_frequencies_by_type.png\")\n",
    "plt.show()\n",
    "# Plotting the individual symptoms with their frequencies\n",
    "grouped_symptoms = df.sort_values(by=\"Frequency (%)\", ascending=False)\n",
    "plt.figure(figsize=(12, 8))\n",
    "sns.barplot(x=\"Frequency (%)\", y=\"Symptom\", data=grouped_symptoms, palette=\"coolwarm\")\n",
    "\n",
    "plt.title(\"Frequency of Individual Symptoms\")\n",
    "plt.xlabel(\"Frequency (%)\")\n",
    "plt.ylabel(\"Symptom\")\n",
    "plt.tight_layout()\n",
    "plt.show()"
   ]
  },
  {
   "cell_type": "code",
   "execution_count": 10,
   "id": "0c846d99",
   "metadata": {},
   "outputs": [
    {
     "name": "stdout",
     "output_type": "stream",
     "text": [
      "Total number of symptoms: 22\n"
     ]
    },
    {
     "data": {
      "application/vnd.microsoft.datawrangler.viewer.v0+json": {
       "columns": [
        {
         "name": "index",
         "rawType": "int64",
         "type": "integer"
        },
        {
         "name": "Symptom",
         "rawType": "object",
         "type": "string"
        },
        {
         "name": "Frequency (%)",
         "rawType": "float64",
         "type": "float"
        },
        {
         "name": "Type",
         "rawType": "object",
         "type": "string"
        }
       ],
       "ref": "d3088003-104c-4da7-9a6c-cc70b79439a2",
       "rows": [
        [
         "0",
         "Light-headedness or dizziness",
         "77.6",
         "Orthostatic"
        ],
        [
         "1",
         "Pre-syncope",
         "60.5",
         "Orthostatic"
        ],
        [
         "2",
         "Weakness",
         "50.0",
         "Orthostatic"
        ],
        [
         "3",
         "Palpitations",
         "75.0",
         "Orthostatic"
        ],
        [
         "4",
         "Tremulousness",
         "37.5",
         "Orthostatic"
        ],
        [
         "5",
         "Shortness of breath",
         "27.6",
         "Orthostatic"
        ],
        [
         "6",
         "Chest pain",
         "24.3",
         "Orthostatic"
        ],
        [
         "7",
         "Loss of sweating",
         "5.3",
         "Orthostatic"
        ],
        [
         "8",
         "Hyperhidrosis",
         "9.2",
         "Orthostatic"
        ],
        [
         "9",
         "Bloating",
         "23.7",
         "Non-orthostatic"
        ],
        [
         "10",
         "Nausea",
         "38.8",
         "Non-orthostatic"
        ],
        [
         "11",
         "Vomiting",
         "8.6",
         "Non-orthostatic"
        ],
        [
         "12",
         "Abdominal pain",
         "15.1",
         "Non-orthostatic"
        ],
        [
         "13",
         "Constipation",
         "15.1",
         "Non-orthostatic"
        ],
        [
         "14",
         "Diarrhoea",
         "17.8",
         "Non-orthostatic"
        ],
        [
         "15",
         "Bladder dysfunction",
         "9.2",
         "Non-orthostatic"
        ],
        [
         "16",
         "Pupillary dysfunction",
         "3.3",
         "Non-orthostatic"
        ],
        [
         "17",
         "Fatigue",
         "48.0",
         "Generalized"
        ],
        [
         "18",
         "Sleep disturbance",
         "31.6",
         "Generalized"
        ],
        [
         "19",
         "Migraine headache",
         "27.6",
         "Generalized"
        ],
        [
         "20",
         "Myofascial pain",
         "15.8",
         "Generalized"
        ],
        [
         "21",
         "Neuropathic pain",
         "2.0",
         "Generalized"
        ]
       ],
       "shape": {
        "columns": 3,
        "rows": 22
       }
      },
      "text/html": [
       "<div>\n",
       "<style scoped>\n",
       "    .dataframe tbody tr th:only-of-type {\n",
       "        vertical-align: middle;\n",
       "    }\n",
       "\n",
       "    .dataframe tbody tr th {\n",
       "        vertical-align: top;\n",
       "    }\n",
       "\n",
       "    .dataframe thead th {\n",
       "        text-align: right;\n",
       "    }\n",
       "</style>\n",
       "<table border=\"1\" class=\"dataframe\">\n",
       "  <thead>\n",
       "    <tr style=\"text-align: right;\">\n",
       "      <th></th>\n",
       "      <th>Symptom</th>\n",
       "      <th>Frequency (%)</th>\n",
       "      <th>Type</th>\n",
       "    </tr>\n",
       "  </thead>\n",
       "  <tbody>\n",
       "    <tr>\n",
       "      <th>0</th>\n",
       "      <td>Light-headedness or dizziness</td>\n",
       "      <td>77.6</td>\n",
       "      <td>Orthostatic</td>\n",
       "    </tr>\n",
       "    <tr>\n",
       "      <th>1</th>\n",
       "      <td>Pre-syncope</td>\n",
       "      <td>60.5</td>\n",
       "      <td>Orthostatic</td>\n",
       "    </tr>\n",
       "    <tr>\n",
       "      <th>2</th>\n",
       "      <td>Weakness</td>\n",
       "      <td>50.0</td>\n",
       "      <td>Orthostatic</td>\n",
       "    </tr>\n",
       "    <tr>\n",
       "      <th>3</th>\n",
       "      <td>Palpitations</td>\n",
       "      <td>75.0</td>\n",
       "      <td>Orthostatic</td>\n",
       "    </tr>\n",
       "    <tr>\n",
       "      <th>4</th>\n",
       "      <td>Tremulousness</td>\n",
       "      <td>37.5</td>\n",
       "      <td>Orthostatic</td>\n",
       "    </tr>\n",
       "    <tr>\n",
       "      <th>5</th>\n",
       "      <td>Shortness of breath</td>\n",
       "      <td>27.6</td>\n",
       "      <td>Orthostatic</td>\n",
       "    </tr>\n",
       "    <tr>\n",
       "      <th>6</th>\n",
       "      <td>Chest pain</td>\n",
       "      <td>24.3</td>\n",
       "      <td>Orthostatic</td>\n",
       "    </tr>\n",
       "    <tr>\n",
       "      <th>7</th>\n",
       "      <td>Loss of sweating</td>\n",
       "      <td>5.3</td>\n",
       "      <td>Orthostatic</td>\n",
       "    </tr>\n",
       "    <tr>\n",
       "      <th>8</th>\n",
       "      <td>Hyperhidrosis</td>\n",
       "      <td>9.2</td>\n",
       "      <td>Orthostatic</td>\n",
       "    </tr>\n",
       "    <tr>\n",
       "      <th>9</th>\n",
       "      <td>Bloating</td>\n",
       "      <td>23.7</td>\n",
       "      <td>Non-orthostatic</td>\n",
       "    </tr>\n",
       "    <tr>\n",
       "      <th>10</th>\n",
       "      <td>Nausea</td>\n",
       "      <td>38.8</td>\n",
       "      <td>Non-orthostatic</td>\n",
       "    </tr>\n",
       "    <tr>\n",
       "      <th>11</th>\n",
       "      <td>Vomiting</td>\n",
       "      <td>8.6</td>\n",
       "      <td>Non-orthostatic</td>\n",
       "    </tr>\n",
       "    <tr>\n",
       "      <th>12</th>\n",
       "      <td>Abdominal pain</td>\n",
       "      <td>15.1</td>\n",
       "      <td>Non-orthostatic</td>\n",
       "    </tr>\n",
       "    <tr>\n",
       "      <th>13</th>\n",
       "      <td>Constipation</td>\n",
       "      <td>15.1</td>\n",
       "      <td>Non-orthostatic</td>\n",
       "    </tr>\n",
       "    <tr>\n",
       "      <th>14</th>\n",
       "      <td>Diarrhoea</td>\n",
       "      <td>17.8</td>\n",
       "      <td>Non-orthostatic</td>\n",
       "    </tr>\n",
       "    <tr>\n",
       "      <th>15</th>\n",
       "      <td>Bladder dysfunction</td>\n",
       "      <td>9.2</td>\n",
       "      <td>Non-orthostatic</td>\n",
       "    </tr>\n",
       "    <tr>\n",
       "      <th>16</th>\n",
       "      <td>Pupillary dysfunction</td>\n",
       "      <td>3.3</td>\n",
       "      <td>Non-orthostatic</td>\n",
       "    </tr>\n",
       "    <tr>\n",
       "      <th>17</th>\n",
       "      <td>Fatigue</td>\n",
       "      <td>48.0</td>\n",
       "      <td>Generalized</td>\n",
       "    </tr>\n",
       "    <tr>\n",
       "      <th>18</th>\n",
       "      <td>Sleep disturbance</td>\n",
       "      <td>31.6</td>\n",
       "      <td>Generalized</td>\n",
       "    </tr>\n",
       "    <tr>\n",
       "      <th>19</th>\n",
       "      <td>Migraine headache</td>\n",
       "      <td>27.6</td>\n",
       "      <td>Generalized</td>\n",
       "    </tr>\n",
       "    <tr>\n",
       "      <th>20</th>\n",
       "      <td>Myofascial pain</td>\n",
       "      <td>15.8</td>\n",
       "      <td>Generalized</td>\n",
       "    </tr>\n",
       "    <tr>\n",
       "      <th>21</th>\n",
       "      <td>Neuropathic pain</td>\n",
       "      <td>2.0</td>\n",
       "      <td>Generalized</td>\n",
       "    </tr>\n",
       "  </tbody>\n",
       "</table>\n",
       "</div>"
      ],
      "text/plain": [
       "                          Symptom  Frequency (%)             Type\n",
       "0   Light-headedness or dizziness           77.6      Orthostatic\n",
       "1                     Pre-syncope           60.5      Orthostatic\n",
       "2                        Weakness           50.0      Orthostatic\n",
       "3                    Palpitations           75.0      Orthostatic\n",
       "4                   Tremulousness           37.5      Orthostatic\n",
       "5             Shortness of breath           27.6      Orthostatic\n",
       "6                      Chest pain           24.3      Orthostatic\n",
       "7                Loss of sweating            5.3      Orthostatic\n",
       "8                   Hyperhidrosis            9.2      Orthostatic\n",
       "9                        Bloating           23.7  Non-orthostatic\n",
       "10                         Nausea           38.8  Non-orthostatic\n",
       "11                       Vomiting            8.6  Non-orthostatic\n",
       "12                 Abdominal pain           15.1  Non-orthostatic\n",
       "13                   Constipation           15.1  Non-orthostatic\n",
       "14                      Diarrhoea           17.8  Non-orthostatic\n",
       "15            Bladder dysfunction            9.2  Non-orthostatic\n",
       "16          Pupillary dysfunction            3.3  Non-orthostatic\n",
       "17                        Fatigue           48.0      Generalized\n",
       "18              Sleep disturbance           31.6      Generalized\n",
       "19              Migraine headache           27.6      Generalized\n",
       "20                Myofascial pain           15.8      Generalized\n",
       "21               Neuropathic pain            2.0      Generalized"
      ]
     },
     "metadata": {},
     "output_type": "display_data"
    },
    {
     "name": "stdout",
     "output_type": "stream",
     "text": [
      "Symptom Type Counts:\n",
      "Type\n",
      "Orthostatic        9\n",
      "Non-orthostatic    8\n",
      "Generalized        5\n",
      "Name: count, dtype: int64\n"
     ]
    }
   ],
   "source": [
    "\n",
    "# The required variables and imports are already present in previous cells.\n",
    "# No need to re-import or redefine them here.\n",
    "\n",
    "# If you want to display the dataframe:\n",
    "print(f\"Total number of symptoms: {rows}\")\n",
    "display(df)\n",
    "type_counts = df['Type'].value_counts()\n",
    "print(\"Symptom Type Counts:\")\n",
    "print(type_counts)"
   ]
  }
 ],
 "metadata": {
  "kernelspec": {
   "display_name": "Python 3",
   "language": "python",
   "name": "python3"
  },
  "language_info": {
   "codemirror_mode": {
    "name": "ipython",
    "version": 3
   },
   "file_extension": ".py",
   "mimetype": "text/x-python",
   "name": "python",
   "nbconvert_exporter": "python",
   "pygments_lexer": "ipython3",
   "version": "3.13.2"
  }
 },
 "nbformat": 4,
 "nbformat_minor": 5
}
