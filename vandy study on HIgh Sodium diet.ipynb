{
 "cells": [
  {
   "cell_type": "code",
   "execution_count": null,
   "id": "296ffd99",
   "metadata": {},
   "outputs": [],
   "source": [
    "import pandas as pd\n",
    "#reference  https://pmc.ncbi.nlm.nih.gov/articles/PMC8103825/\n",
    "\n",
    "# Study Participants\n",
    "#\n",
    "# We enrolled 14 female POTS patients (23–49 years; one Hispanic; all White; Table 1) from the Vanderbilt Autonomic Dysfunction Center.\n",
    "# Patients were eligible if they had been diagnosed with POTS in accordance with the Consensus Statement of the American Autonomic Society (1)\n",
    "# and they were ≥18 years of age. Thirteen female HC (23–43 years; one Hispanic; 11 White; one Asian; and one Black) were recruited from the Vanderbilt community.\n",
    "# Potential study participants were screened with a physical examination, an electrocardiogram, and routine laboratory studies.\n",
    "# Renal function, liver function, and hematologic screening were normal, and subjects with systemic illnesses that might affect autonomic function were excluded."
   ]
  },
  {
   "cell_type": "code",
   "execution_count": 16,
   "id": "110b28f3",
   "metadata": {},
   "outputs": [],
   "source": [
    "# Baseline characteristics of study participants\n",
    "import pandas as pd\n",
    "import numpy as np\n",
    "import matplotlib.pyplot as plt\n",
    "df_baseline = pd.DataFrame({\n",
    "    'Characteristic': [\n",
    "        'Age (yr)', 'Height (cm)', 'Weight (kg)', 'Body mass index',\n",
    "        'Sodium (mEq/L)', 'Potassium (mEq/L)', 'Chloride (mEq/L)',\n",
    "        'Hemoglobin (g/100mL)', 'Hematocrit (%)'\n",
    "    ],\n",
    "    'POTS Patients': [\n",
    "        '35 ± 8', '166 ± 75', '64.0 ± 8.7', '23.3 ± 3.2',\n",
    "        '139 (139–140)', '3.9 (3.7–4.2)', '106 (105–108)',\n",
    "        '13.1 (12.9–13.7)', '39.0 (38.0–41.5)'\n",
    "    ],\n",
    "    'Controls': [\n",
    "        '31 ± 6', '161 ± 85', '62.0 ± 7.7', '23.8 ± 2.8',\n",
    "        '138 (136–139)', '4.0 (3.7–4.1)', '106 (104–106)',\n",
    "        '13.2 (12.9–13.5)', '40.0 (38.0–41.5)'\n",
    "    ],\n",
    "    'P value': [0.266, 0.159, 0.530, 0.675, 0.035, 0.727, 0.159, 0.746, 0.819]\n",
    "})\n",
    "\n",
    "# The variable df_baseline is now defined and can be used in subsequent cells."
   ]
  },
  {
   "cell_type": "code",
   "execution_count": 18,
   "id": "da16f4de",
   "metadata": {},
   "outputs": [
    {
     "data": {
      "text/plain": [
       "<Figure size 640x480 with 0 Axes>"
      ]
     },
     "metadata": {},
     "output_type": "display_data"
    },
    {
     "data": {
      "application/vnd.microsoft.datawrangler.viewer.v0+json": {
       "columns": [
        {
         "name": "index",
         "rawType": "int64",
         "type": "integer"
        },
        {
         "name": "Characteristic",
         "rawType": "object",
         "type": "string"
        },
        {
         "name": "POTS Patients",
         "rawType": "object",
         "type": "string"
        },
        {
         "name": "Controls",
         "rawType": "object",
         "type": "string"
        },
        {
         "name": "P value",
         "rawType": "float64",
         "type": "float"
        }
       ],
       "ref": "2b419afe-1dfc-46e5-8a97-eef29c4d1932",
       "rows": [
        [
         "0",
         "Age (yr)",
         "35 ± 8",
         "31 ± 6",
         "0.266"
        ],
        [
         "1",
         "Height (cm)",
         "166 ± 75",
         "161 ± 85",
         "0.159"
        ],
        [
         "2",
         "Weight (kg)",
         "64.0 ± 8.7",
         "62.0 ± 7.7",
         "0.53"
        ],
        [
         "3",
         "Body mass index",
         "23.3 ± 3.2",
         "23.8 ± 2.8",
         "0.675"
        ],
        [
         "4",
         "Sodium (mEq/L)",
         "139 (139–140)",
         "138 (136–139)",
         "0.035"
        ],
        [
         "5",
         "Potassium (mEq/L)",
         "3.9 (3.7–4.2)",
         "4.0 (3.7–4.1)",
         "0.727"
        ],
        [
         "6",
         "Chloride (mEq/L)",
         "106 (105–108)",
         "106 (104–106)",
         "0.159"
        ],
        [
         "7",
         "Hemoglobin (g/100mL)",
         "13.1 (12.9–13.7)",
         "13.2 (12.9–13.5)",
         "0.746"
        ],
        [
         "8",
         "Hematocrit (%)",
         "39.0 (38.0–41.5)",
         "40.0 (38.0–41.5)",
         "0.819"
        ]
       ],
       "shape": {
        "columns": 4,
        "rows": 9
       }
      },
      "text/html": [
       "<div>\n",
       "<style scoped>\n",
       "    .dataframe tbody tr th:only-of-type {\n",
       "        vertical-align: middle;\n",
       "    }\n",
       "\n",
       "    .dataframe tbody tr th {\n",
       "        vertical-align: top;\n",
       "    }\n",
       "\n",
       "    .dataframe thead th {\n",
       "        text-align: right;\n",
       "    }\n",
       "</style>\n",
       "<table border=\"1\" class=\"dataframe\">\n",
       "  <thead>\n",
       "    <tr style=\"text-align: right;\">\n",
       "      <th></th>\n",
       "      <th>Characteristic</th>\n",
       "      <th>POTS Patients</th>\n",
       "      <th>Controls</th>\n",
       "      <th>P value</th>\n",
       "    </tr>\n",
       "  </thead>\n",
       "  <tbody>\n",
       "    <tr>\n",
       "      <th>0</th>\n",
       "      <td>Age (yr)</td>\n",
       "      <td>35 ± 8</td>\n",
       "      <td>31 ± 6</td>\n",
       "      <td>0.266</td>\n",
       "    </tr>\n",
       "    <tr>\n",
       "      <th>1</th>\n",
       "      <td>Height (cm)</td>\n",
       "      <td>166 ± 75</td>\n",
       "      <td>161 ± 85</td>\n",
       "      <td>0.159</td>\n",
       "    </tr>\n",
       "    <tr>\n",
       "      <th>2</th>\n",
       "      <td>Weight (kg)</td>\n",
       "      <td>64.0 ± 8.7</td>\n",
       "      <td>62.0 ± 7.7</td>\n",
       "      <td>0.530</td>\n",
       "    </tr>\n",
       "    <tr>\n",
       "      <th>3</th>\n",
       "      <td>Body mass index</td>\n",
       "      <td>23.3 ± 3.2</td>\n",
       "      <td>23.8 ± 2.8</td>\n",
       "      <td>0.675</td>\n",
       "    </tr>\n",
       "    <tr>\n",
       "      <th>4</th>\n",
       "      <td>Sodium (mEq/L)</td>\n",
       "      <td>139 (139–140)</td>\n",
       "      <td>138 (136–139)</td>\n",
       "      <td>0.035</td>\n",
       "    </tr>\n",
       "    <tr>\n",
       "      <th>5</th>\n",
       "      <td>Potassium (mEq/L)</td>\n",
       "      <td>3.9 (3.7–4.2)</td>\n",
       "      <td>4.0 (3.7–4.1)</td>\n",
       "      <td>0.727</td>\n",
       "    </tr>\n",
       "    <tr>\n",
       "      <th>6</th>\n",
       "      <td>Chloride (mEq/L)</td>\n",
       "      <td>106 (105–108)</td>\n",
       "      <td>106 (104–106)</td>\n",
       "      <td>0.159</td>\n",
       "    </tr>\n",
       "    <tr>\n",
       "      <th>7</th>\n",
       "      <td>Hemoglobin (g/100mL)</td>\n",
       "      <td>13.1 (12.9–13.7)</td>\n",
       "      <td>13.2 (12.9–13.5)</td>\n",
       "      <td>0.746</td>\n",
       "    </tr>\n",
       "    <tr>\n",
       "      <th>8</th>\n",
       "      <td>Hematocrit (%)</td>\n",
       "      <td>39.0 (38.0–41.5)</td>\n",
       "      <td>40.0 (38.0–41.5)</td>\n",
       "      <td>0.819</td>\n",
       "    </tr>\n",
       "  </tbody>\n",
       "</table>\n",
       "</div>"
      ],
      "text/plain": [
       "         Characteristic     POTS Patients          Controls  P value\n",
       "0              Age (yr)            35 ± 8            31 ± 6    0.266\n",
       "1           Height (cm)          166 ± 75          161 ± 85    0.159\n",
       "2           Weight (kg)        64.0 ± 8.7        62.0 ± 7.7    0.530\n",
       "3       Body mass index        23.3 ± 3.2        23.8 ± 2.8    0.675\n",
       "4        Sodium (mEq/L)     139 (139–140)     138 (136–139)    0.035\n",
       "5     Potassium (mEq/L)     3.9 (3.7–4.2)     4.0 (3.7–4.1)    0.727\n",
       "6      Chloride (mEq/L)     106 (105–108)     106 (104–106)    0.159\n",
       "7  Hemoglobin (g/100mL)  13.1 (12.9–13.7)  13.2 (12.9–13.5)    0.746\n",
       "8        Hematocrit (%)  39.0 (38.0–41.5)  40.0 (38.0–41.5)    0.819"
      ]
     },
     "execution_count": 18,
     "metadata": {},
     "output_type": "execute_result"
    }
   ],
   "source": [
    "# Plot the baseline characteristics for POTS Patients and Controls\n",
    "\n",
    "# Plot the values for POTS Patients and Controls as bar plots\n",
    "x = range(len(df_baseline['Characteristic']))\n",
    "\n",
    "# Only plot numeric values; skip rows where conversion to float fails\n",
    "def safe_float(val):\n",
    "\ttry:\n",
    "\t\treturn float(str(val).split()[0])\n",
    "\texcept Exception:\n",
    "\t\treturn None\n",
    "\n",
    "pots_vals = [safe_float(val) for val in df_baseline['POTS Patients']]\n",
    "ctrl_vals = [safe_float(val) for val in df_baseline['Controls']]\n",
    "\n",
    "# Find indices where both values are valid numbers\n",
    "valid_indices = [i for i, (p, c) in enumerate(zip(pots_vals, ctrl_vals)) if p is not None and c is not None]\n",
    "x_valid = [x[i] for i in valid_indices]\n",
    "pots_valid = [pots_vals[i] for i in valid_indices]\n",
    "ctrl_valid = [ctrl_vals[i] for i in valid_indices]\n",
    "char_valid = [df_baseline['Characteristic'][i] for i in valid_indices]\n",
    "\n",
    "# Clear the axes before plotting (in case ax was used before)\n",
    "ax.clear()\n",
    "\n",
    "ax.bar(x_valid, pots_valid, width=0.4, label='POTS Patients', align='center')\n",
    "ax.bar([i + 0.4 for i in x_valid], ctrl_valid, width=0.4, label='Controls', align='center')\n",
    "\n",
    "# Set x-ticks and labels only for valid characteristics\n",
    "ax.set_xticks([i + 0.2 for i in x_valid])\n",
    "ax.set_xticklabels(char_valid, rotation=45, ha='right')\n",
    "ax.set_ylabel('Value')\n",
    "ax.set_title('Baseline Characteristics: POTS Patients vs Controls')\n",
    "ax.legend()\n",
    "plt.tight_layout()\n",
    "plt.show()\n",
    "\n",
    "# Display the dataframe as a column view\n",
    "df_baseline"
   ]
  }
 ],
 "metadata": {
  "kernelspec": {
   "display_name": "Python 3",
   "language": "python",
   "name": "python3"
  },
  "language_info": {
   "codemirror_mode": {
    "name": "ipython",
    "version": 3
   },
   "file_extension": ".py",
   "mimetype": "text/x-python",
   "name": "python",
   "nbconvert_exporter": "python",
   "pygments_lexer": "ipython3",
   "version": "3.13.2"
  }
 },
 "nbformat": 4,
 "nbformat_minor": 5
}
